


import sys
sys.path.append('/mnt/ceph/develop/jiawei/CogVideo/sat')




import os
import math
import argparse
from typing import List, Union
from tqdm import tqdm 
import imageio

import torch
import numpy as np
from einops import rearrange
import torchvision.transforms as TT

from sat.model.base_model import get_model
from sat.training.model_io import load_checkpoint
from sat import mpu
 
from arguments import get_args 
 
py_parser = argparse.ArgumentParser(add_help=False)
known, args_list = py_parser.parse_known_args(args=[

                "--base",
                "/mnt/ceph/develop/jiawei/CogVideo/sat/configs/cogvideox_2b.yaml",
                "/mnt/ceph/develop/jiawei/CogVideo/sat/configs/inference.yaml",
                "--seed",
                "42"
    
])

 



args = get_args(args_list)
args = argparse.Namespace(**vars(args), **vars(known))
del args.deepspeed_config
args.model_config.first_stage_config.params.cp_size = 1
args.model_config.network_config.params.transformer_args.model_parallel_size = 1
args.model_config.network_config.params.transformer_args.checkpoint_activations = False
args.model_config.loss_fn_config.params.sigma_sampler_config.params.uniform_sampling = False
model = instantiate_from_config(config).eval()
model.train = disabled_train
for param in model.parameters():
    param.requires_grad = False
