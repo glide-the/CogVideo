{
 "cells": [
  {
   "cell_type": "code",
   "execution_count": null,
   "id": "b60b9a40-14e0-4aa5-8964-1c897c1d876e",
   "metadata": {},
   "outputs": [],
   "source": [
    "\n",
    "\n",
    "\n",
    "import sys\n",
    "sys.path.append('/mnt/ceph/develop/jiawei/CogVideo/sat')"
   ]
  },
  {
   "cell_type": "code",
   "execution_count": null,
   "id": "3f98b444-8d2a-42fb-8100-0644671ac9d1",
   "metadata": {
    "scrolled": true
   },
   "outputs": [],
   "source": [
    "\n",
    "\n",
    "import os\n",
    "import math\n",
    "import argparse\n",
    "from typing import List, Union\n",
    "from tqdm import tqdm \n",
    "import imageio\n",
    "\n",
    "import torch\n",
    "import numpy as np\n",
    "from einops import rearrange\n",
    "import torchvision.transforms as TT\n",
    "\n",
    "from sat.model.base_model import get_model\n",
    "from sat.training.model_io import load_checkpoint\n",
    "from sat import mpu\n",
    " \n",
    "from arguments import get_args \n",
    " \n",
    "py_parser = argparse.ArgumentParser(add_help=False)\n",
    "known, args_list = py_parser.parse_known_args(args=[\n",
    "\n",
    "                \"--base\",\n",
    "                \"/mnt/ceph/develop/jiawei/CogVideo/sat/configs/cogvideox_2b.yaml\",\n",
    "                \"/mnt/ceph/develop/jiawei/CogVideo/sat/configs/inference.yaml\",\n",
    "                \"--seed\",\n",
    "                \"42\"\n",
    "    \n",
    "])\n",
    "\n",
    " "
   ]
  },
  {
   "cell_type": "code",
   "execution_count": null,
   "id": "bbf7c2a7-4ea6-4310-9a33-43c501b21362",
   "metadata": {},
   "outputs": [],
   "source": [
    "\n",
    "args = get_args(args_list)\n",
    "args = argparse.Namespace(**vars(args), **vars(known))\n",
    "del args.deepspeed_config\n",
    "args.model_config.first_stage_config.params.cp_size = 1\n",
    "args.model_config.network_config.params.transformer_args.model_parallel_size = 1\n",
    "args.model_config.network_config.params.transformer_args.checkpoint_activations = False\n",
    "args.model_config.loss_fn_config.params.sigma_sampler_config.params.uniform_sampling = False\n",
    "model = instantiate_from_config(config).eval()\n",
    "model.train = disabled_train\n",
    "for param in model.parameters():\n",
    "    param.requires_grad = False"
   ]
  }
 ],
 "metadata": {
  "kernelspec": {
   "display_name": "Python 3 (ipykernel)",
   "language": "python",
   "name": "python3"
  },
  "language_info": {
   "codemirror_mode": {
    "name": "ipython",
    "version": 3
   },
   "file_extension": ".py",
   "mimetype": "text/x-python",
   "name": "python",
   "nbconvert_exporter": "python",
   "pygments_lexer": "ipython3",
   "version": "3.10.12"
  }
 },
 "nbformat": 4,
 "nbformat_minor": 5
}
