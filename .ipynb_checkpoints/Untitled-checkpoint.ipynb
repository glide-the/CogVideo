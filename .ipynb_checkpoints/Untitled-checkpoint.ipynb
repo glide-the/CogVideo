{
 "cells": [
  {
   "cell_type": "code",
   "execution_count": 5,
   "id": "b60b9a40-14e0-4aa5-8964-1c897c1d876e",
   "metadata": {},
   "outputs": [],
   "source": [
    "\n",
    "\n",
    "\n",
    "import sys\n",
    "sys.path.append('/mnt/ceph/develop/jiawei/CogVideo/sat')"
   ]
  },
  {
   "cell_type": "code",
   "execution_count": 6,
   "id": "3f98b444-8d2a-42fb-8100-0644671ac9d1",
   "metadata": {
    "scrolled": true
   },
   "outputs": [
    {
     "ename": "ModuleNotFoundError",
     "evalue": "No module named 'wandb'",
     "output_type": "error",
     "traceback": [
      "\u001b[0;31m---------------------------------------------------------------------------\u001b[0m",
      "\u001b[0;31mModuleNotFoundError\u001b[0m                       Traceback (most recent call last)",
      "Cell \u001b[0;32mIn[6], line 15\u001b[0m\n\u001b[1;32m     13\u001b[0m \u001b[38;5;28;01mfrom\u001b[39;00m \u001b[38;5;21;01msat\u001b[39;00m\u001b[38;5;21;01m.\u001b[39;00m\u001b[38;5;21;01mmodel\u001b[39;00m\u001b[38;5;21;01m.\u001b[39;00m\u001b[38;5;21;01mbase_model\u001b[39;00m \u001b[38;5;28;01mimport\u001b[39;00m get_model\n\u001b[1;32m     14\u001b[0m \u001b[38;5;28;01mfrom\u001b[39;00m \u001b[38;5;21;01msat\u001b[39;00m\u001b[38;5;21;01m.\u001b[39;00m\u001b[38;5;21;01mtraining\u001b[39;00m\u001b[38;5;21;01m.\u001b[39;00m\u001b[38;5;21;01mmodel_io\u001b[39;00m \u001b[38;5;28;01mimport\u001b[39;00m load_checkpoint\n\u001b[0;32m---> 15\u001b[0m \u001b[38;5;28;01mfrom\u001b[39;00m \u001b[38;5;21;01msat\u001b[39;00m \u001b[38;5;28;01mimport\u001b[39;00m mpu\n\u001b[1;32m     17\u001b[0m \u001b[38;5;28;01mfrom\u001b[39;00m \u001b[38;5;21;01marguments\u001b[39;00m \u001b[38;5;28;01mimport\u001b[39;00m get_args \n\u001b[1;32m     19\u001b[0m py_parser \u001b[38;5;241m=\u001b[39m argparse\u001b[38;5;241m.\u001b[39mArgumentParser(add_help\u001b[38;5;241m=\u001b[39m\u001b[38;5;28;01mFalse\u001b[39;00m)\n",
      "File \u001b[0;32m/usr/local/lib/python3.10/dist-packages/sat/__init__.py:12\u001b[0m\n\u001b[1;32m     10\u001b[0m         print_rank0(\u001b[38;5;124m'\u001b[39m\u001b[38;5;124mDeepSpeed Not Installed, you cannot import training_main from sat now.\u001b[39m\u001b[38;5;124m'\u001b[39m, level\u001b[38;5;241m=\u001b[39m\u001b[38;5;124m\"\u001b[39m\u001b[38;5;124mWARNING\u001b[39m\u001b[38;5;124m\"\u001b[39m)\n\u001b[1;32m     11\u001b[0m     \u001b[38;5;28;01melse\u001b[39;00m:\n\u001b[0;32m---> 12\u001b[0m         \u001b[38;5;28;01mraise\u001b[39;00m e\n\u001b[1;32m     13\u001b[0m __version__ \u001b[38;5;241m=\u001b[39m \u001b[38;5;124m'\u001b[39m\u001b[38;5;124m0.4.12\u001b[39m\u001b[38;5;124m'\u001b[39m\n",
      "File \u001b[0;32m/usr/local/lib/python3.10/dist-packages/sat/__init__.py:6\u001b[0m\n\u001b[1;32m      3\u001b[0m \u001b[38;5;28;01mfrom\u001b[39;00m \u001b[38;5;21;01m.\u001b[39;00m\u001b[38;5;21;01mmodel\u001b[39;00m \u001b[38;5;28;01mimport\u001b[39;00m AutoModel\n\u001b[1;32m      5\u001b[0m \u001b[38;5;28;01mtry\u001b[39;00m:\n\u001b[0;32m----> 6\u001b[0m     \u001b[38;5;28;01mfrom\u001b[39;00m \u001b[38;5;21;01m.\u001b[39;00m\u001b[38;5;21;01mtraining\u001b[39;00m\u001b[38;5;21;01m.\u001b[39;00m\u001b[38;5;21;01mdeepspeed_training\u001b[39;00m \u001b[38;5;28;01mimport\u001b[39;00m training_main\n\u001b[1;32m      7\u001b[0m \u001b[38;5;28;01mexcept\u001b[39;00m \u001b[38;5;167;01mModuleNotFoundError\u001b[39;00m \u001b[38;5;28;01mas\u001b[39;00m e:\n\u001b[1;32m      8\u001b[0m     \u001b[38;5;28;01mif\u001b[39;00m \u001b[38;5;124m'\u001b[39m\u001b[38;5;124mdeepspeed\u001b[39m\u001b[38;5;124m'\u001b[39m \u001b[38;5;129;01min\u001b[39;00m \u001b[38;5;28mstr\u001b[39m(e):\n",
      "File \u001b[0;32m/usr/local/lib/python3.10/dist-packages/sat/training/deepspeed_training.py:28\u001b[0m\n\u001b[1;32m     26\u001b[0m \u001b[38;5;28;01mimport\u001b[39;00m \u001b[38;5;21;01mtorch\u001b[39;00m\u001b[38;5;21;01m.\u001b[39;00m\u001b[38;5;21;01mdistributed\u001b[39;00m \u001b[38;5;28;01mas\u001b[39;00m \u001b[38;5;21;01mdist\u001b[39;00m\n\u001b[1;32m     27\u001b[0m \u001b[38;5;28;01mimport\u001b[39;00m \u001b[38;5;21;01mdeepspeed\u001b[39;00m\n\u001b[0;32m---> 28\u001b[0m \u001b[38;5;28;01mimport\u001b[39;00m \u001b[38;5;21;01mwandb\u001b[39;00m\n\u001b[1;32m     30\u001b[0m \u001b[38;5;28;01mfrom\u001b[39;00m \u001b[38;5;21;01m.\u001b[39;00m\u001b[38;5;21;01mlearning_rates\u001b[39;00m \u001b[38;5;28;01mimport\u001b[39;00m AnnealingLR\n\u001b[1;32m     31\u001b[0m \u001b[38;5;28;01mfrom\u001b[39;00m \u001b[38;5;21;01m.\u001b[39;00m\u001b[38;5;21;01mmodel_io\u001b[39;00m \u001b[38;5;28;01mimport\u001b[39;00m load_checkpoint, save_checkpoint\n",
      "\u001b[0;31mModuleNotFoundError\u001b[0m: No module named 'wandb'"
     ]
    }
   ],
   "source": [
    "\n",
    "\n",
    "import os\n",
    "import math\n",
    "import argparse\n",
    "from typing import List, Union\n",
    "from tqdm import tqdm \n",
    "import imageio\n",
    "\n",
    "import torch\n",
    "import numpy as np\n",
    "from einops import rearrange\n",
    "import torchvision.transforms as TT\n",
    "\n",
    "from sat.model.base_model import get_model\n",
    "from sat.training.model_io import load_checkpoint\n",
    "from sat import mpu\n",
    " \n",
    "from arguments import get_args \n",
    " \n",
    "py_parser = argparse.ArgumentParser(add_help=False)\n",
    "known, args_list = py_parser.parse_known_args(args=[\n",
    "\n",
    "                \"--base\",\n",
    "                \"/mnt/ceph/develop/jiawei/CogVideo/sat/configs/cogvideox_2b.yaml\",\n",
    "                \"/mnt/ceph/develop/jiawei/CogVideo/sat/configs/inference.yaml\",\n",
    "                \"--seed\",\n",
    "                \"42\"\n",
    "    \n",
    "])\n",
    "\n",
    " "
   ]
  },
  {
   "cell_type": "code",
   "execution_count": null,
   "id": "bbf7c2a7-4ea6-4310-9a33-43c501b21362",
   "metadata": {},
   "outputs": [],
   "source": [
    "\n",
    "args = get_args(args_list)\n",
    "args = argparse.Namespace(**vars(args), **vars(known))\n",
    "del args.deepspeed_config\n",
    "args.model_config.first_stage_config.params.cp_size = 1\n",
    "args.model_config.network_config.params.transformer_args.model_parallel_size = 1\n",
    "args.model_config.network_config.params.transformer_args.checkpoint_activations = False\n",
    "args.model_config.loss_fn_config.params.sigma_sampler_config.params.uniform_sampling = False\n",
    "model = instantiate_from_config(config).eval()\n",
    "model.train = disabled_train\n",
    "for param in model.parameters():\n",
    "    param.requires_grad = False"
   ]
  }
 ],
 "metadata": {
  "kernelspec": {
   "display_name": "Python 3 (ipykernel)",
   "language": "python",
   "name": "python3"
  },
  "language_info": {
   "codemirror_mode": {
    "name": "ipython",
    "version": 3
   },
   "file_extension": ".py",
   "mimetype": "text/x-python",
   "name": "python",
   "nbconvert_exporter": "python",
   "pygments_lexer": "ipython3",
   "version": "3.10.12"
  }
 },
 "nbformat": 4,
 "nbformat_minor": 5
}
