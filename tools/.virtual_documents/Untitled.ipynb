import torch


from typing import Any, Dict


def get_state_dict(saved_dict: Dict[str, Any]) -> Dict[str, Any]:
    state_dict = saved_dict
    if "model" in saved_dict.keys():
        state_dict = state_dict["model"]
    if "module" in saved_dict.keys():
        state_dict = state_dict["module"]
    if "state_dict" in saved_dict.keys():
        state_dict = state_dict["state_dict"]
    return state_dict
 
 


from diffusers.models.modeling_utils import ModelMixin, load_state_dict
model_file = '/mnt/ceph/develop/jiawei/model_checkpoint/hf_cogvideoxlora/pytorch_lora_weights.safetensors'
state_dict1 = load_state_dict(model_file)
 


list(state_dict1.keys())


list(state_dict1.keys())



model_file = '/mnt/ceph/develop/jiawei/model_checkpoint/export_hf_lora_weights/pytorch_lora_weights.safetensors'
state_dict2 = load_state_dict(model_file)

len(list(state_dict2.keys()))


state_dict1.keys()-state_dict2.keys()


from diffusers.models.modeling_utils import ModelMixin, load_state_dict
model_file = '/mnt/ceph/develop/jiawei/model_checkpoint/ckpts_2b_lora/lora-disney-09-09-21-10/1000/mp_rank_00_model_states.pt'
merge_original_state_dict = get_state_dict(torch.load(model_file, map_location="cpu", mmap=True))

 


list(merge_original_state_dict.keys())


model_file = '/mnt/ceph/develop/jiawei/model_checkpoint/ckpts_2b_lora/lora-disney-09-10-16-05/1/mp_rank_00_model_states.pt'
lora_original_state_dict = get_state_dict(torch.load(model_file, map_location="cpu", mmap=True))

list(lora_original_state_dict.keys())



